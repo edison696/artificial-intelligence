{
 "cells": [
  {
   "cell_type": "code",
   "execution_count": 3,
   "metadata": {},
   "outputs": [
    {
     "name": "stdout",
     "output_type": "stream",
     "text": [
      "\n",
      "\r",
      "+ - + - + - + - + - + - + - + - + - + - + - +\n",
      "\r",
      "|   |   |   | X |   |   |   | X | X | X | X |\n",
      "\r",
      "+ - + - + - + - + - + - + - + - + - + - + - +\n",
      "\r",
      "|   |   | X |   |   |   | X |   | X | X | 1 |\n",
      "\r",
      "+ - + - + - + - + - + - + - + - + - + - + - +\n",
      "\r",
      "|   |   | X | X | X |   | X | X | X | X | X |\n",
      "\r",
      "+ - + - + - + - + - + - + - + - + - + - + - +\n",
      "\r",
      "|   | X |   |   |   | X |   | X | X | X | X |\n",
      "\r",
      "+ - + - + - + - + - + - + - + - + - + - + - +\n",
      "\r",
      "|   | 2 | X | X | X |   |   | X |   | X |   |\n",
      "\r",
      "+ - + - + - + - + - + - + - + - + - + - + - +\n",
      "\r",
      "| X |   |   |   |   | X | X |   | X | X | X |\n",
      "\r",
      "+ - + - + - + - + - + - + - + - + - + - + - +\n",
      "\r",
      "|   |   | X | X | X |   |   |   | X |   | X |\n",
      "\r",
      "+ - + - + - + - + - + - + - + - + - + - + - +\n",
      "\r",
      "|   | X |   |   |   |   |   |   |   | X | X |\n",
      "\r",
      "+ - + - + - + - + - + - + - + - + - + - + - +\n",
      "\r",
      "|   |   |   | X |   |   |   |   |   |   |   |\n",
      "\r",
      "+ - + - + - + - + - + - + - + - + - + - + - +\r\n",
      "\n"
     ]
    }
   ],
   "source": [
    "from isolation import *\n",
    "\n",
    "board = Isolation(board=38622085715285517242054675152209791, ply_count=45, locs=(91, 61))\n",
    "debug_board = DebugState.from_state(board)\n",
    "print(debug_board)"
   ]
  },
  {
   "cell_type": "code",
   "execution_count": 3,
   "metadata": {},
   "outputs": [
    {
     "name": "stdout",
     "output_type": "stream",
     "text": [
      "1001000011100010000001100001000000010001000000100100100000100000000000001000000000010000100101000100010010101000110\n"
     ]
    }
   ],
   "source": [
    "print(debug_board.bitboard_string)"
   ]
  },
  {
   "cell_type": "code",
   "execution_count": 10,
   "metadata": {},
   "outputs": [
    {
     "data": {
      "text/plain": [
       "3.4000000000000004"
      ]
     },
     "execution_count": 10,
     "metadata": {},
     "output_type": "execute_result"
    }
   ],
   "source": [
    "12 % 4.3"
   ]
  }
 ],
 "metadata": {
  "kernelspec": {
   "display_name": "Python [default]",
   "language": "python",
   "name": "python3"
  },
  "language_info": {
   "codemirror_mode": {
    "name": "ipython",
    "version": 3
   },
   "file_extension": ".py",
   "mimetype": "text/x-python",
   "name": "python",
   "nbconvert_exporter": "python",
   "pygments_lexer": "ipython3",
   "version": "3.5.4"
  }
 },
 "nbformat": 4,
 "nbformat_minor": 2
}
